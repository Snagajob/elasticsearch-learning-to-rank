{
 "cells": [
  {
   "cell_type": "markdown",
   "metadata": {},
   "source": [
    "# Learning to Rank using Tmdb data"
   ]
  },
  {
   "cell_type": "markdown",
   "metadata": {},
   "source": [
    "This notebook runs through the learning to rank example supported by codes in the scripts folder. For more information about the example and the Elastic Search Learning to Rank plugin please see [this blogpost from Open Source Connections](http://opensourceconnections.com/blog/2017/02/14/elasticsearch-learning-to-rank/). \n",
    "\n",
    "## Prerequisites\n",
    "\n",
    "To run through the codes in this notebook you will need:\n",
    "0. Python (obviously), with the packages listed in `requirements.txt`. The scripts shall work with either Python 2 or 3.\n",
    "1. An Elastic Search instance with the learning to rank pluglin installed. You would also need to have the permission to create indexes. If you don't have one available, you can always download and setup Elastic Search at your local computer. Note for now that the plugin only works with ES 5.1.1.\n",
    "2. The _movielens_ dataset. This dataset can be retrieved by running [prepareData.sh](prepareData.sh). The script will download the zip file, and unzip it to a folder named `ml-20m`.\n",
    "3.  The tmdb movie data. To generate this file, you'd need an account and an API key from tmdb (obtain from https://www.themoviedb.org/documentation/api). After getting the api key, define an enviromental variable (i.e. `export TMDB_API_KEY=<Your Key>`), and execute [tmdb.py](tmdb.py). The script will generate a file named `tmdb.json`( Warning: due to API restrictions, `tmdb.py` will run for about 6 hours to collect all entries). `tmdb.py` will need `ml-20m/links.csv` when creating `tmdb.json`. \n",
    "4. Have RankLibPlus-0.1.0.jar copied over to the scripts/ folder. RankLibPlus is a hardened version of RankLib that addresses some performance issues. The repository can be accessed at https://github.com/o19s/RankyMcRankFace. You can use `mvn package` to build the jar file.\n",
    "5. Add the following line to the config/elasticsearch.yml file of your elastic search instance:\n",
    "   \n",
    "   `script.max_size_in_bytes: [super large integer]`\n",
    "   \n",
    "   The plugin saves the model files as scripts, which defaults to a soft limit of 655535 bytes.\n",
    "   \n"
   ]
  },
  {
   "cell_type": "markdown",
   "metadata": {},
   "source": [
    "## Indexing tmdb Data\n",
    "\n",
    "The first step is to upload the tmdb data to elastic search to create an index:"
   ]
  },
  {
   "cell_type": "code",
   "execution_count": 1,
   "metadata": {
    "collapsed": false
   },
   "outputs": [],
   "source": [
    "%%capture\n",
    "import json\n",
    "from indexMlTmdb import reindex\n",
    "from elasticsearch import Elasticsearch\n",
    "\n",
    "esUrl=\"http://localhost:9200\" #assume a local elastic search instance\n",
    "\n",
    "es = Elasticsearch(esUrl, timeout=30)\n",
    "movieDict = json.loads(open('tmdb.json').read()) #load and format the movie documents\n",
    "reindex(es, movieDict=movieDict, index='tmdb') #delete existing index and recreate a new one"
   ]
  },
  {
   "cell_type": "markdown",
   "metadata": {},
   "source": [
    "To verify the index is created, let's retrieve a document: "
   ]
  },
  {
   "cell_type": "code",
   "execution_count": 3,
   "metadata": {
    "collapsed": false
   },
   "outputs": [
    {
     "data": {
      "text/plain": [
       "{'_shards': {'failed': 0, 'successful': 1, 'total': 1},\n",
       " 'hits': {'hits': [{'_id': '7555',\n",
       "    '_index': 'tmdb',\n",
       "    '_score': 12.279254,\n",
       "    '_source': {'adult': False,\n",
       "     'backdrop_path': '/mgSMefETH89UnNWMffevxZPKDnO.jpg',\n",
       "     'belongs_to_collection': {'backdrop_path': '/Yt2ZxbJv2HM842B6FNMr59Vhyb.jpg',\n",
       "      'id': 5039,\n",
       "      'name': 'Rambo Collection',\n",
       "      'poster_path': '/feGOEOVrOLyjtEnVa88rQLgD3XY.jpg'},\n",
       "     'budget': 50000000,\n",
       "     'cast': [{'cast_id': 12,\n",
       "       'character': 'John Rambo',\n",
       "       'credit_id': '52fe4484c3a36847f809a9e9',\n",
       "       'id': 16483,\n",
       "       'name': 'Sylvester Stallone',\n",
       "       'order': 0,\n",
       "       'profile_path': '/gnmwOa46C2TP35N7ARSzboTdx2u.jpg'},\n",
       "      {'cast_id': 13,\n",
       "       'character': 'Sarah',\n",
       "       'credit_id': '52fe4484c3a36847f809a9ed',\n",
       "       'id': 35551,\n",
       "       'name': 'Julie Benz',\n",
       "       'order': 1,\n",
       "       'profile_path': '/3ymRPOitD5IKXZgDLoy8FLRGQCn.jpg'},\n",
       "      {'cast_id': 15,\n",
       "       'character': 'School Boy',\n",
       "       'credit_id': '52fe4484c3a36847f809a9f1',\n",
       "       'id': 12793,\n",
       "       'name': 'Matthew Marsden',\n",
       "       'order': 3,\n",
       "       'profile_path': '/4vsXCzUknnPmadfp9qVtbaO34NP.jpg'},\n",
       "      {'cast_id': 16,\n",
       "       'character': 'Diaz',\n",
       "       'credit_id': '52fe4484c3a36847f809a9f5',\n",
       "       'id': 52946,\n",
       "       'name': 'Reynaldo Gallegos',\n",
       "       'order': 4,\n",
       "       'profile_path': '/9Auh1zaVGGBTYSDwjBs5PRChju1.jpg'},\n",
       "      {'cast_id': 17,\n",
       "       'character': 'Reese',\n",
       "       'credit_id': '52fe4484c3a36847f809a9f9',\n",
       "       'id': 52409,\n",
       "       'name': 'Jake La Botz',\n",
       "       'order': 5,\n",
       "       'profile_path': '/pf0DFaUPd8ddEAyT5bHJYdhrjuX.jpg'},\n",
       "      {'cast_id': 18,\n",
       "       'character': 'En-Joo',\n",
       "       'credit_id': '52fe4484c3a36847f809a9fd',\n",
       "       'id': 52947,\n",
       "       'name': 'Tim Kang',\n",
       "       'order': 6,\n",
       "       'profile_path': '/h36VGcf6Y1feCSgFFxpGqA8fwqO.jpg'},\n",
       "      {'cast_id': 19,\n",
       "       'character': 'Tint',\n",
       "       'credit_id': '52fe4484c3a36847f809aa01',\n",
       "       'id': 52948,\n",
       "       'name': 'Maung Maung Khin',\n",
       "       'order': 7,\n",
       "       'profile_path': None},\n",
       "      {'cast_id': 20,\n",
       "       'character': 'Michael Burnett',\n",
       "       'credit_id': '52fe4484c3a36847f809aa05',\n",
       "       'id': 36189,\n",
       "       'name': 'Paul Schulze',\n",
       "       'order': 8,\n",
       "       'profile_path': '/tcGHCA2seYFju3RBKItpyLHAPHc.jpg'},\n",
       "      {'cast_id': 21,\n",
       "       'character': 'Arthur Marsh',\n",
       "       'credit_id': '52fe4484c3a36847f809aa09',\n",
       "       'id': 18328,\n",
       "       'name': 'Ken Howard',\n",
       "       'order': 9,\n",
       "       'profile_path': '/uS0ad3oElzhCBBseeY7i6lR0K1q.jpg'},\n",
       "      {'cast_id': 23,\n",
       "       'character': 'Lewis',\n",
       "       'credit_id': '52fe4484c3a36847f809aa13',\n",
       "       'id': 95047,\n",
       "       'name': 'Graham McTavish',\n",
       "       'order': 10,\n",
       "       'profile_path': '/eqxR4TGXcY0vLLqR5RkfgVXBgrS.jpg'},\n",
       "      {'cast_id': 25,\n",
       "       'character': 'Jeff',\n",
       "       'credit_id': '530b546c9251411114004d07',\n",
       "       'id': 97551,\n",
       "       'name': 'Cameron Pearson',\n",
       "       'order': 11,\n",
       "       'profile_path': '/ah25mWSMa64GOr3qmU1uNTMwxw2.jpg'},\n",
       "      {'cast_id': 26,\n",
       "       'character': 'Dentist',\n",
       "       'credit_id': '530b547c925141785e002e22',\n",
       "       'id': 1085469,\n",
       "       'name': 'Thomas Peterson',\n",
       "       'order': 12,\n",
       "       'profile_path': None},\n",
       "      {'cast_id': 27,\n",
       "       'character': 'Videographer',\n",
       "       'credit_id': '530b54909251411102004dd7',\n",
       "       'id': 1296116,\n",
       "       'name': 'Tony Skarberg',\n",
       "       'order': 13,\n",
       "       'profile_path': None},\n",
       "      {'cast_id': 28,\n",
       "       'character': 'Preacher',\n",
       "       'credit_id': '530b54a99251411105005200',\n",
       "       'id': 76489,\n",
       "       'name': 'James With',\n",
       "       'order': 14,\n",
       "       'profile_path': '/oIyXuQY5n2LeLVq8yZSquveiDX0.jpg'},\n",
       "      {'cast_id': 29,\n",
       "       'character': 'Snake Hunter #2',\n",
       "       'credit_id': '530b54c09251411117004fa5',\n",
       "       'id': 1296117,\n",
       "       'name': 'Kasikorn Niyompattana',\n",
       "       'order': 15,\n",
       "       'profile_path': None},\n",
       "      {'cast_id': 30,\n",
       "       'character': 'Snake Hunter #1',\n",
       "       'credit_id': '530b54cd9251411102004dde',\n",
       "       'id': 1296118,\n",
       "       'name': \"Shaliew 'Lek' Bamrungbun\",\n",
       "       'order': 16,\n",
       "       'profile_path': None}],\n",
       "     'directors': [{'credit_id': '52fe4483c3a36847f809a9af',\n",
       "       'department': 'Directing',\n",
       "       'id': 16483,\n",
       "       'job': 'Director',\n",
       "       'name': 'Sylvester Stallone',\n",
       "       'profile_path': '/gnmwOa46C2TP35N7ARSzboTdx2u.jpg'}],\n",
       "     'genres': [{'id': 28, 'name': 'Action'}, {'id': 53, 'name': 'Thriller'}],\n",
       "     'homepage': 'http://www.rambofilm.com/',\n",
       "     'id': 7555,\n",
       "     'imdb_id': 'tt0462499',\n",
       "     'mlensId': '57528',\n",
       "     'original_language': 'en',\n",
       "     'original_title': 'Rambo',\n",
       "     'overview': \"When governments fail to act on behalf of captive missionaries, ex-Green Beret John James Rambo sets aside his peaceful existence along the Salween River in a war-torn region of Thailand to take action.  Although he's still haunted by violent memories of his time as a U.S. soldier during the Vietnam War, Rambo can hardly turn his back on the aid workers who so desperately need his help.\",\n",
       "     'popularity': 2.973831,\n",
       "     'poster_path': '/ec1m7YgBYb4os06OSNW3QBaNYqZ.jpg',\n",
       "     'production_companies': [{'id': 696, 'name': 'Rogue Marble'},\n",
       "      {'id': 925, 'name': 'Nu Image Films'},\n",
       "      {'id': 1632, 'name': 'Lionsgate'},\n",
       "      {'id': 10254, 'name': 'Millennium Films'},\n",
       "      {'id': 10405, 'name': 'Emmett/Furla Films'},\n",
       "      {'id': 20363, 'name': 'Equity Pictures Medienfonds GmbH & Co. KG IV'}],\n",
       "     'production_countries': [{'iso_3166_1': 'DE', 'name': 'Germany'},\n",
       "      {'iso_3166_1': 'US', 'name': 'United States of America'}],\n",
       "     'release_date': '2008-01-24',\n",
       "     'revenue': 113244290,\n",
       "     'runtime': 92,\n",
       "     'spoken_languages': [{'iso_639_1': 'en', 'name': 'English'},\n",
       "      {'iso_639_1': 'my', 'name': ''},\n",
       "      {'iso_639_1': 'th', 'name': 'ภาษาไทย'}],\n",
       "     'status': 'Released',\n",
       "     'tagline': 'Heroes never die... They just reload.',\n",
       "     'title': 'Rambo',\n",
       "     'title_sent': 'SENTINEL_BEGIN Rambo',\n",
       "     'video': False,\n",
       "     'vote_average': 6.3,\n",
       "     'vote_count': 616},\n",
       "    '_type': 'movie'}],\n",
       "  'max_score': 12.279254,\n",
       "  'total': 3},\n",
       " 'timed_out': False,\n",
       " 'took': 1}"
      ]
     },
     "execution_count": 3,
     "metadata": {},
     "output_type": "execute_result"
    }
   ],
   "source": [
    "es.search(index='tmdb', body={\"query\": {\"match\": { \"title\": \"rambo\"}}}, size=1)"
   ]
  },
  {
   "cell_type": "markdown",
   "metadata": {
    "collapsed": true
   },
   "source": [
    "## Training Data Creation\n",
    "The next step is to create the training data needed to build the Learning to Rank model. The training data set, like all supervised learning machine learning algorithms, consists of data labels (in our case the relevance grades for each search result) and features. \n",
    "\n",
    "### Data Labels (relevance grades)\n",
    "\n",
    "In this example the relevance grades are loaded from [sample_judgements.txt](sample_judgements.txt) and formatted to ranklib specifications."
   ]
  },
  {
   "cell_type": "code",
   "execution_count": 4,
   "metadata": {
    "collapsed": true
   },
   "outputs": [],
   "source": [
    "%%capture\n",
    "from judgments import judgmentsFromFile, judgmentsByQid\n",
    "judgements = judgmentsByQid(judgmentsFromFile(filename='sample_judgements.txt'))"
   ]
  },
  {
   "cell_type": "code",
   "execution_count": 5,
   "metadata": {
    "collapsed": false
   },
   "outputs": [
    {
     "name": "stdout",
     "output_type": "stream",
     "text": [
      "3\tqid:1\t # 1370\trambo\n",
      "3\tqid:1\t # 1369\trambo\n",
      "3\tqid:1\t # 1368\trambo\n",
      "0\tqid:1\t # 136278\trambo\n",
      "0\tqid:1\t # 102947\trambo\n",
      "0\tqid:1\t # 13969\trambo\n",
      "0\tqid:1\t # 61645\trambo\n",
      "0\tqid:1\t # 14423\trambo\n",
      "0\tqid:1\t # 54156\trambo\n",
      "4\tqid:2\t # 1366\trocky\n",
      "3\tqid:2\t # 1246\trocky\n",
      "3\tqid:2\t # 60375\trocky\n",
      "3\tqid:2\t # 1371\trocky\n",
      "3\tqid:2\t # 1375\trocky\n",
      "3\tqid:2\t # 1374\trocky\n",
      "0\tqid:2\t # 110123\trocky\n",
      "0\tqid:2\t # 17711\trocky\n",
      "0\tqid:2\t # 36685\trocky\n",
      "4\tqid:3\t # 17711\tbullwinkle\n",
      "0\tqid:3\t # 1246\tbullwinkle\n",
      "0\tqid:3\t # 60375\tbullwinkle\n",
      "0\tqid:3\t # 1371\tbullwinkle\n",
      "0\tqid:3\t # 1375\tbullwinkle\n",
      "0\tqid:3\t # 1374\tbullwinkle\n"
     ]
    }
   ],
   "source": [
    "#print out the relevance scores and query ids\n",
    "for qid, judgmentList in judgements.items():\n",
    "    for judgment in judgmentList:\n",
    "        print(judgment.toRanklibFormat())"
   ]
  },
  {
   "cell_type": "markdown",
   "metadata": {},
   "source": [
    "The first column is the judgement score, the second column is the query id, while the inforation behind the # sign are human-readable annotations ignored by Ranklib."
   ]
  },
  {
   "cell_type": "markdown",
   "metadata": {},
   "source": [
    "### Features \n",
    "Features of learning to rank models are often retrieved and/or calculated from the search engine itself via the query API. In the tmdb example, we apply two features:\n",
    "\n",
    "1. The tf-idf score of the movie title. This query can be expressed as the following query template (see [1.json.jinja](1.json.jinja)):\n",
    "\n",
    ">```\n",
    "  {\n",
    "    \"query\": {\n",
    "        \"match\": {\n",
    "           \"title\": \"{{keywords}}\"\n",
    "        }\n",
    "    }\n",
    "  }\n",
    "```\n",
    "\n",
    "2. The tf-idf score of a multi-match over multiple fields, expressed as the following query template [2.json.jinja](2.json.jinja)):  \n",
    "\n",
    "> ```\n",
    "{\n",
    "   \"query\": {\n",
    "       \"multi_match\": {\n",
    "          \"query\": \"{{keywords}}\",\n",
    "          \"type\": \"cross_fields\",\n",
    "          \"fields\": [\"overview\", \"genres.name\", \"title\", \"tagline\", \n",
    "                     \"belongs_to_collection.name\", \"cast.name\", \"directors.name\"],\n",
    "          \"tie_breaker\": 1.0\n",
    "       }\n",
    "   }\n",
    "}\n",
    "```"
   ]
  },
  {
   "cell_type": "markdown",
   "metadata": {},
   "source": [
    "The following function calls Elastic Search to generate the features, and append them to the judgement file."
   ]
  },
  {
   "cell_type": "code",
   "execution_count": 6,
   "metadata": {
    "collapsed": false
   },
   "outputs": [],
   "source": [
    "%%capture\n",
    "from features import kwDocFeatures\n",
    "kwDocFeatures(es, index='tmdb', searchType='movie', judgements=judgements)"
   ]
  },
  {
   "cell_type": "markdown",
   "metadata": {},
   "source": [
    "The augmented full judgement file (i.e. training data) looks like below:"
   ]
  },
  {
   "cell_type": "code",
   "execution_count": 7,
   "metadata": {
    "collapsed": false
   },
   "outputs": [
    {
     "name": "stdout",
     "output_type": "stream",
     "text": [
      "3\tqid:1\t1:9.482015\t2:25.469782 # 1370\trambo\n",
      "3\tqid:1\t1:6.826077\t2:23.13993 # 1369\trambo\n",
      "3\tqid:1\t1:0.0\t2:17.151937 # 1368\trambo\n",
      "0\tqid:1\t1:0.0\t2:0.0 # 136278\trambo\n",
      "0\tqid:1\t1:0.0\t2:0.0 # 102947\trambo\n",
      "0\tqid:1\t1:0.0\t2:0.0 # 13969\trambo\n",
      "0\tqid:1\t1:0.0\t2:0.0 # 61645\trambo\n",
      "0\tqid:1\t1:0.0\t2:0.0 # 14423\trambo\n",
      "0\tqid:1\t1:0.0\t2:0.0 # 54156\trambo\n",
      "4\tqid:2\t1:10.646808\t2:20.49501 # 1366\trocky\n",
      "3\tqid:2\t1:8.221444\t2:21.073606 # 1246\trocky\n",
      "3\tqid:2\t1:8.221444\t2:14.424812 # 60375\trocky\n",
      "3\tqid:2\t1:8.221444\t2:16.640888 # 1371\trocky\n",
      "3\tqid:2\t1:8.221444\t2:18.506395 # 1375\trocky\n",
      "3\tqid:2\t1:8.221444\t2:19.772667 # 1374\trocky\n",
      "0\tqid:2\t1:6.7930174\t2:5.5697646 # 110123\trocky\n",
      "0\tqid:2\t1:5.9185953\t2:13.270146 # 17711\trocky\n",
      "0\tqid:2\t1:5.9185953\t2:14.717502 # 36685\trocky\n",
      "4\tqid:3\t1:7.472444\t2:19.033852 # 17711\tbullwinkle\n",
      "0\tqid:3\t1:0.0\t2:0.0 # 1246\tbullwinkle\n",
      "0\tqid:3\t1:0.0\t2:0.0 # 60375\tbullwinkle\n",
      "0\tqid:3\t1:0.0\t2:0.0 # 1371\tbullwinkle\n",
      "0\tqid:3\t1:0.0\t2:0.0 # 1375\tbullwinkle\n",
      "0\tqid:3\t1:0.0\t2:0.0 # 1374\tbullwinkle\n"
     ]
    }
   ],
   "source": [
    "for qid, judgmentList in judgements.items():\n",
    "    for judgment in judgmentList:\n",
    "        print(judgment.toRanklibFormat())"
   ]
  },
  {
   "cell_type": "markdown",
   "metadata": {},
   "source": [
    "The file is then saved to disk for model training."
   ]
  },
  {
   "cell_type": "code",
   "execution_count": 8,
   "metadata": {
    "collapsed": true
   },
   "outputs": [],
   "source": [
    "#save the judgement file for model training\n",
    "from features import buildFeaturesJudgmentsFile\n",
    "buildFeaturesJudgmentsFile(judgements, filename='sample_judgements_wfeatures.txt')"
   ]
  },
  {
   "cell_type": "markdown",
   "metadata": {},
   "source": [
    "## Model Training\n",
    "\n",
    "Model training is conducted by invoking ranklib. The actual command is \n",
    "\n",
    "```java -jar RankLibPlus-0.1.0.jar  -ranker 6 -train [name of jugdgement file] -save [name of model file]\n",
    "```\n",
    "\n",
    "Below we use a python wrapper that executes the same command."
   ]
  },
  {
   "cell_type": "code",
   "execution_count": 11,
   "metadata": {
    "collapsed": false
   },
   "outputs": [
    {
     "name": "stdout",
     "output_type": "stream",
     "text": [
      "Running java -jar RankLibPlus-0.1.0.jar  -ranker 6 -train sample_judgements_wfeatures.txt -save model.txt\n"
     ]
    }
   ],
   "source": [
    "from train import trainModel, saveModel\n",
    "\n",
    "trainModel(judgmentsWithFeaturesFile='sample_judgements_wfeatures.txt', modelOutput='model.txt')"
   ]
  },
  {
   "cell_type": "markdown",
   "metadata": {},
   "source": [
    "The contents of the model file can be viewed at [model.txt](model.txt). We can then save the model to Elastic Search as a script:"
   ]
  },
  {
   "cell_type": "code",
   "execution_count": 12,
   "metadata": {
    "collapsed": true
   },
   "outputs": [],
   "source": [
    "saveModel(es, scriptName='test', modelFname='model.txt')"
   ]
  },
  {
   "cell_type": "markdown",
   "metadata": {},
   "source": [
    "## Scoring\n",
    "Once the model sript is uploaded, we can generate relevant scores by passing in an ltr rescore query.\n",
    "The features for the new query can be generated by the same queries template we used to generate training data.\n",
    "\n",
    "The query body below rescores a query that tries to search for all documents that contains the word 'rambo'."
   ]
  },
  {
   "cell_type": "code",
   "execution_count": 20,
   "metadata": {
    "collapsed": false
   },
   "outputs": [],
   "source": [
    "query_body = {\n",
    "              \"query\": {\n",
    "                   \"match\": {\n",
    "                      \"_all\": \"rambo\"\n",
    "                    }\n",
    "               },\n",
    "\n",
    "               \"rescore\": {\n",
    "                   \"window_size\": 20,\n",
    "                   \"query\": {\n",
    "                        \"rescore_query\": {        \n",
    "                         \"ltr\": {\n",
    "                            \"model\": {\n",
    "                                \"stored\": \"test\"\n",
    "                            },\n",
    "                            \"features\": [{\n",
    "                                          \"match\": {\n",
    "                                          \"title\": \"rambo\"\n",
    "                                          }\n",
    "                                         }, \n",
    "                                         {\n",
    "                                          \"multi_match\": {\n",
    "                                             \"query\": \"rambo\",\n",
    "                                             \"type\": \"cross_fields\",\n",
    "                                             \"tie_breaker\": 1.0,\n",
    "                                             \"fields\": [\"overview\", \"genres.name\", \"title\", \n",
    "                                                        \"tagline\", \"belongs_to_collection.name\",\n",
    "                                                        \"cast.name\", \"directors.name\"]\n",
    "                                           }\n",
    "                                         }]\n",
    "                            }\n",
    "                     }\n",
    "                }\n",
    "            }\n",
    "    }\n"
   ]
  },
  {
   "cell_type": "code",
   "execution_count": 35,
   "metadata": {
    "collapsed": false
   },
   "outputs": [
    {
     "name": "stdout",
     "output_type": "stream",
     "text": [
      "{'_id': '7555', 'title': 'Rambo', '_score': 113.367805}\n",
      "{'_id': '1368', 'title': 'First Blood', '_score': 62.41924}\n",
      "{'_id': '1369', 'title': 'Rambo: First Blood Part II', '_score': 59.755802}\n",
      "{'_id': '1370', 'title': 'Rambo III', '_score': 58.007786}\n",
      "{'_id': '288183', 'title': 'A Hole in the Soul', '_score': 48.01506}\n",
      "{'_id': '61410', 'title': 'Spud', '_score': 46.65277}\n",
      "{'_id': '13258', 'title': 'Son of Rambow', '_score': 45.773308}\n",
      "{'_id': '98136', 'title': 'Hit Lady', '_score': 45.773308}\n",
      "{'_id': '31362', 'title': 'In the Line of Duty: The F.B.I. Murders', '_score': 45.773308}\n",
      "{'_id': '123961', 'title': 'Which Way to the Front?', '_score': 45.773308}\n"
     ]
    }
   ],
   "source": [
    "results = es.search(index='tmdb', doc_type='movie', body=query_body, size=10)\n",
    "for result in results['hits']['hits']:\n",
    "    print (dict([('_id', result['_id']), ('title', result['_source']['title']), ('_score', result['_score'])]))"
   ]
  }
 ],
 "metadata": {
  "anaconda-cloud": {},
  "kernelspec": {
   "display_name": "Python [default]",
   "language": "python",
   "name": "python3"
  },
  "language_info": {
   "codemirror_mode": {
    "name": "ipython",
    "version": 3
   },
   "file_extension": ".py",
   "mimetype": "text/x-python",
   "name": "python",
   "nbconvert_exporter": "python",
   "pygments_lexer": "ipython3",
   "version": "3.5.2"
  }
 },
 "nbformat": 4,
 "nbformat_minor": 1
}
